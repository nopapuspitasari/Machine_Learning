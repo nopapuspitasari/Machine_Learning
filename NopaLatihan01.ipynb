{
  "nbformat": 4,
  "nbformat_minor": 0,
  "metadata": {
    "colab": {
      "name": "Latihan01.ipynb",
      "provenance": [],
      "authorship_tag": "ABX9TyMuoPqssJkXBl3IxvF/BU25",
      "include_colab_link": true
    },
    "kernelspec": {
      "name": "python3",
      "display_name": "Python 3"
    }
  },
  "cells": [
    {
      "cell_type": "markdown",
      "metadata": {
        "id": "view-in-github",
        "colab_type": "text"
      },
      "source": [
        "<a href=\"https://colab.research.google.com/github/nopapuspitasari/Machine_Learning/blob/main/NopaLatihan01.ipynb\" target=\"_parent\"><img src=\"https://colab.research.google.com/assets/colab-badge.svg\" alt=\"Open In Colab\"/></a>"
      ]
    },
    {
      "cell_type": "code",
      "metadata": {
        "id": "p8po5oXCR_Wf",
        "outputId": "058d4f17-70e8-4ef6-e1d7-d0bb8192028a",
        "colab": {
          "base_uri": "https://localhost:8080/",
          "height": 34
        }
      },
      "source": [
        "from google.colab import drive\n",
        "drive.mount('/content/gdrive')"
      ],
      "execution_count": null,
      "outputs": [
        {
          "output_type": "stream",
          "text": [
            "Mounted at /content/gdrive\n"
          ],
          "name": "stdout"
        }
      ]
    },
    {
      "cell_type": "code",
      "metadata": {
        "id": "2zTcafv2XgHW",
        "outputId": "f6573847-0f7d-4042-edda-f3ada9567de2",
        "colab": {
          "base_uri": "https://localhost:8080/",
          "height": 589
        }
      },
      "source": [
        "import pandas as pd\n",
        "path=\"/content/gdrive/My Drive/indonesian_movies.csv\"\n",
        "dataset=pd.read_csv(path)\n",
        "dataset"
      ],
      "execution_count": null,
      "outputs": [
        {
          "output_type": "execute_result",
          "data": {
            "text/html": [
              "<div>\n",
              "<style scoped>\n",
              "    .dataframe tbody tr th:only-of-type {\n",
              "        vertical-align: middle;\n",
              "    }\n",
              "\n",
              "    .dataframe tbody tr th {\n",
              "        vertical-align: top;\n",
              "    }\n",
              "\n",
              "    .dataframe thead th {\n",
              "        text-align: right;\n",
              "    }\n",
              "</style>\n",
              "<table border=\"1\" class=\"dataframe\">\n",
              "  <thead>\n",
              "    <tr style=\"text-align: right;\">\n",
              "      <th></th>\n",
              "      <th>title</th>\n",
              "      <th>year</th>\n",
              "      <th>description</th>\n",
              "      <th>genre</th>\n",
              "      <th>rating</th>\n",
              "      <th>users_rating</th>\n",
              "      <th>votes</th>\n",
              "      <th>languages</th>\n",
              "      <th>directors</th>\n",
              "      <th>actors</th>\n",
              "      <th>runtime</th>\n",
              "    </tr>\n",
              "  </thead>\n",
              "  <tbody>\n",
              "    <tr>\n",
              "      <th>0</th>\n",
              "      <td>#FriendButMarried 2</td>\n",
              "      <td>2020</td>\n",
              "      <td>Ayudia (Mawar De Jongh) is not satisfied enoug...</td>\n",
              "      <td>Biography</td>\n",
              "      <td>13+</td>\n",
              "      <td>6.5</td>\n",
              "      <td>120</td>\n",
              "      <td>Indonesian</td>\n",
              "      <td>Rako Prijanto</td>\n",
              "      <td>['Adipati Dolken', 'Mawar Eva de Jongh', 'Vonn...</td>\n",
              "      <td>100 min</td>\n",
              "    </tr>\n",
              "    <tr>\n",
              "      <th>1</th>\n",
              "      <td>4 Mantan</td>\n",
              "      <td>2020</td>\n",
              "      <td>Sara, Airin, Rachel, and Amara were accidental...</td>\n",
              "      <td>Thriller</td>\n",
              "      <td>17+</td>\n",
              "      <td>6.4</td>\n",
              "      <td>8</td>\n",
              "      <td>Indonesian</td>\n",
              "      <td>Hanny Saputra</td>\n",
              "      <td>['Ranty Maria', 'Jeff Smith', 'Melanie Berentz...</td>\n",
              "      <td>80 min</td>\n",
              "    </tr>\n",
              "    <tr>\n",
              "      <th>2</th>\n",
              "      <td>Aku Tahu Kapan Kamu Mati</td>\n",
              "      <td>2020</td>\n",
              "      <td>After apparent death, Siena is able to see sig...</td>\n",
              "      <td>Horror</td>\n",
              "      <td>13+</td>\n",
              "      <td>5.4</td>\n",
              "      <td>17</td>\n",
              "      <td>Indonesian</td>\n",
              "      <td>Hadrah Daeng Ratu</td>\n",
              "      <td>['Natasha Wilona', 'Ria Ricis', 'Al Ghazali', ...</td>\n",
              "      <td>92 min</td>\n",
              "    </tr>\n",
              "    <tr>\n",
              "      <th>3</th>\n",
              "      <td>Anak Garuda</td>\n",
              "      <td>2020</td>\n",
              "      <td>Good Morning Indonesia, a school for poor orph...</td>\n",
              "      <td>Adventure</td>\n",
              "      <td>13+</td>\n",
              "      <td>9.1</td>\n",
              "      <td>27</td>\n",
              "      <td>Indonesian</td>\n",
              "      <td>Faozan Rizal</td>\n",
              "      <td>['Tissa Biani Azzahra', 'Violla Georgie', 'Aji...</td>\n",
              "      <td>129 min</td>\n",
              "    </tr>\n",
              "    <tr>\n",
              "      <th>4</th>\n",
              "      <td>Dignitate</td>\n",
              "      <td>2020</td>\n",
              "      <td>Alfi (Al Ghazali) meets Alana (Caitlin Halderm...</td>\n",
              "      <td>Drama</td>\n",
              "      <td>17+</td>\n",
              "      <td>7.6</td>\n",
              "      <td>33</td>\n",
              "      <td>Indonesian</td>\n",
              "      <td>Fajar Nugros</td>\n",
              "      <td>['Al Ghazali', 'Caitlin Halderman', 'Giorgino ...</td>\n",
              "      <td>109 min</td>\n",
              "    </tr>\n",
              "    <tr>\n",
              "      <th>...</th>\n",
              "      <td>...</td>\n",
              "      <td>...</td>\n",
              "      <td>...</td>\n",
              "      <td>...</td>\n",
              "      <td>...</td>\n",
              "      <td>...</td>\n",
              "      <td>...</td>\n",
              "      <td>...</td>\n",
              "      <td>...</td>\n",
              "      <td>...</td>\n",
              "      <td>...</td>\n",
              "    </tr>\n",
              "    <tr>\n",
              "      <th>1267</th>\n",
              "      <td>The Tiger from Tjampa</td>\n",
              "      <td>1953</td>\n",
              "      <td>Set in the 1930s, and narrated like a ballad f...</td>\n",
              "      <td>Drama</td>\n",
              "      <td>NaN</td>\n",
              "      <td>6.4</td>\n",
              "      <td>30</td>\n",
              "      <td>Indonesian</td>\n",
              "      <td>D. Djajakusuma</td>\n",
              "      <td>['Wahid Chan', 'Bambang Hermanto', 'R.D. Ismai...</td>\n",
              "      <td>97 min</td>\n",
              "    </tr>\n",
              "    <tr>\n",
              "      <th>1268</th>\n",
              "      <td>Enam Djam di Djogja</td>\n",
              "      <td>1951</td>\n",
              "      <td>Depicting the celebrated recapture of the town...</td>\n",
              "      <td>Drama</td>\n",
              "      <td>NaN</td>\n",
              "      <td>6.3</td>\n",
              "      <td>9</td>\n",
              "      <td>Indonesian</td>\n",
              "      <td>Usmar Ismail</td>\n",
              "      <td>['R.D. Ismail', 'Del Juzar', 'Aedy Moward', 'A...</td>\n",
              "      <td>116 min</td>\n",
              "    </tr>\n",
              "    <tr>\n",
              "      <th>1269</th>\n",
              "      <td>Darah dan Doa</td>\n",
              "      <td>1950</td>\n",
              "      <td>It tells the story of an Indonesian revolution...</td>\n",
              "      <td>Drama</td>\n",
              "      <td>NaN</td>\n",
              "      <td>6.6</td>\n",
              "      <td>27</td>\n",
              "      <td>Indonesian</td>\n",
              "      <td>Usmar Ismail</td>\n",
              "      <td>['Ella Bergen', 'Faridah', 'R.D. Ismail', 'Del...</td>\n",
              "      <td>150 min</td>\n",
              "    </tr>\n",
              "    <tr>\n",
              "      <th>1270</th>\n",
              "      <td>Resia Boroboedoer</td>\n",
              "      <td>1928</td>\n",
              "      <td>NaN</td>\n",
              "      <td>Adventure</td>\n",
              "      <td>NaN</td>\n",
              "      <td>7.0</td>\n",
              "      <td>8</td>\n",
              "      <td>Indonesian</td>\n",
              "      <td>NaN</td>\n",
              "      <td>['Olive Young', nan, nan, nan, nan, nan, nan, ...</td>\n",
              "      <td>NaN</td>\n",
              "    </tr>\n",
              "    <tr>\n",
              "      <th>1271</th>\n",
              "      <td>Loetoeng Kasaroeng</td>\n",
              "      <td>1926</td>\n",
              "      <td>NaN</td>\n",
              "      <td>Fantasy</td>\n",
              "      <td>NaN</td>\n",
              "      <td>7.2</td>\n",
              "      <td>11</td>\n",
              "      <td>Indonesian</td>\n",
              "      <td>L. Heuveldorp</td>\n",
              "      <td>['Martoana', 'Oemar', nan, nan, nan, nan, nan,...</td>\n",
              "      <td>60 min</td>\n",
              "    </tr>\n",
              "  </tbody>\n",
              "</table>\n",
              "<p>1272 rows × 11 columns</p>\n",
              "</div>"
            ],
            "text/plain": [
              "                         title  ...  runtime\n",
              "0          #FriendButMarried 2  ...  100 min\n",
              "1                     4 Mantan  ...   80 min\n",
              "2     Aku Tahu Kapan Kamu Mati  ...   92 min\n",
              "3                  Anak Garuda  ...  129 min\n",
              "4                    Dignitate  ...  109 min\n",
              "...                        ...  ...      ...\n",
              "1267     The Tiger from Tjampa  ...   97 min\n",
              "1268       Enam Djam di Djogja  ...  116 min\n",
              "1269             Darah dan Doa  ...  150 min\n",
              "1270         Resia Boroboedoer  ...      NaN\n",
              "1271        Loetoeng Kasaroeng  ...   60 min\n",
              "\n",
              "[1272 rows x 11 columns]"
            ]
          },
          "metadata": {
            "tags": []
          },
          "execution_count": 9
        }
      ]
    },
    {
      "cell_type": "code",
      "metadata": {
        "id": "NeN_3hw6ZNKf",
        "outputId": "f4702d60-c395-4928-ddc8-d9d878b84bc8",
        "colab": {
          "base_uri": "https://localhost:8080/",
          "height": 289
        }
      },
      "source": [
        "dataset.head()"
      ],
      "execution_count": null,
      "outputs": [
        {
          "output_type": "execute_result",
          "data": {
            "text/html": [
              "<div>\n",
              "<style scoped>\n",
              "    .dataframe tbody tr th:only-of-type {\n",
              "        vertical-align: middle;\n",
              "    }\n",
              "\n",
              "    .dataframe tbody tr th {\n",
              "        vertical-align: top;\n",
              "    }\n",
              "\n",
              "    .dataframe thead th {\n",
              "        text-align: right;\n",
              "    }\n",
              "</style>\n",
              "<table border=\"1\" class=\"dataframe\">\n",
              "  <thead>\n",
              "    <tr style=\"text-align: right;\">\n",
              "      <th></th>\n",
              "      <th>title</th>\n",
              "      <th>year</th>\n",
              "      <th>description</th>\n",
              "      <th>genre</th>\n",
              "      <th>rating</th>\n",
              "      <th>users_rating</th>\n",
              "      <th>votes</th>\n",
              "      <th>languages</th>\n",
              "      <th>directors</th>\n",
              "      <th>actors</th>\n",
              "      <th>runtime</th>\n",
              "    </tr>\n",
              "  </thead>\n",
              "  <tbody>\n",
              "    <tr>\n",
              "      <th>0</th>\n",
              "      <td>#FriendButMarried 2</td>\n",
              "      <td>2020</td>\n",
              "      <td>Ayudia (Mawar De Jongh) is not satisfied enoug...</td>\n",
              "      <td>Biography</td>\n",
              "      <td>13+</td>\n",
              "      <td>6.5</td>\n",
              "      <td>120</td>\n",
              "      <td>Indonesian</td>\n",
              "      <td>Rako Prijanto</td>\n",
              "      <td>['Adipati Dolken', 'Mawar Eva de Jongh', 'Vonn...</td>\n",
              "      <td>100 min</td>\n",
              "    </tr>\n",
              "    <tr>\n",
              "      <th>1</th>\n",
              "      <td>4 Mantan</td>\n",
              "      <td>2020</td>\n",
              "      <td>Sara, Airin, Rachel, and Amara were accidental...</td>\n",
              "      <td>Thriller</td>\n",
              "      <td>17+</td>\n",
              "      <td>6.4</td>\n",
              "      <td>8</td>\n",
              "      <td>Indonesian</td>\n",
              "      <td>Hanny Saputra</td>\n",
              "      <td>['Ranty Maria', 'Jeff Smith', 'Melanie Berentz...</td>\n",
              "      <td>80 min</td>\n",
              "    </tr>\n",
              "    <tr>\n",
              "      <th>2</th>\n",
              "      <td>Aku Tahu Kapan Kamu Mati</td>\n",
              "      <td>2020</td>\n",
              "      <td>After apparent death, Siena is able to see sig...</td>\n",
              "      <td>Horror</td>\n",
              "      <td>13+</td>\n",
              "      <td>5.4</td>\n",
              "      <td>17</td>\n",
              "      <td>Indonesian</td>\n",
              "      <td>Hadrah Daeng Ratu</td>\n",
              "      <td>['Natasha Wilona', 'Ria Ricis', 'Al Ghazali', ...</td>\n",
              "      <td>92 min</td>\n",
              "    </tr>\n",
              "    <tr>\n",
              "      <th>3</th>\n",
              "      <td>Anak Garuda</td>\n",
              "      <td>2020</td>\n",
              "      <td>Good Morning Indonesia, a school for poor orph...</td>\n",
              "      <td>Adventure</td>\n",
              "      <td>13+</td>\n",
              "      <td>9.1</td>\n",
              "      <td>27</td>\n",
              "      <td>Indonesian</td>\n",
              "      <td>Faozan Rizal</td>\n",
              "      <td>['Tissa Biani Azzahra', 'Violla Georgie', 'Aji...</td>\n",
              "      <td>129 min</td>\n",
              "    </tr>\n",
              "    <tr>\n",
              "      <th>4</th>\n",
              "      <td>Dignitate</td>\n",
              "      <td>2020</td>\n",
              "      <td>Alfi (Al Ghazali) meets Alana (Caitlin Halderm...</td>\n",
              "      <td>Drama</td>\n",
              "      <td>17+</td>\n",
              "      <td>7.6</td>\n",
              "      <td>33</td>\n",
              "      <td>Indonesian</td>\n",
              "      <td>Fajar Nugros</td>\n",
              "      <td>['Al Ghazali', 'Caitlin Halderman', 'Giorgino ...</td>\n",
              "      <td>109 min</td>\n",
              "    </tr>\n",
              "  </tbody>\n",
              "</table>\n",
              "</div>"
            ],
            "text/plain": [
              "                      title  ...  runtime\n",
              "0       #FriendButMarried 2  ...  100 min\n",
              "1                  4 Mantan  ...   80 min\n",
              "2  Aku Tahu Kapan Kamu Mati  ...   92 min\n",
              "3               Anak Garuda  ...  129 min\n",
              "4                 Dignitate  ...  109 min\n",
              "\n",
              "[5 rows x 11 columns]"
            ]
          },
          "metadata": {
            "tags": []
          },
          "execution_count": 10
        }
      ]
    },
    {
      "cell_type": "code",
      "metadata": {
        "id": "tE87wR28aIyV",
        "outputId": "a2907b93-ce4f-46d9-fa9b-410bc815289e",
        "colab": {
          "base_uri": "https://localhost:8080/",
          "height": 34
        }
      },
      "source": [
        "dataset.shape"
      ],
      "execution_count": null,
      "outputs": [
        {
          "output_type": "execute_result",
          "data": {
            "text/plain": [
              "(1272, 11)"
            ]
          },
          "metadata": {
            "tags": []
          },
          "execution_count": 11
        }
      ]
    },
    {
      "cell_type": "code",
      "metadata": {
        "id": "CfiR1-ueaPBk",
        "outputId": "088c36f5-187c-4aa7-dd8f-d36379741bd7",
        "colab": {
          "base_uri": "https://localhost:8080/",
          "height": 221
        }
      },
      "source": [
        "dataset.isnull().sum()"
      ],
      "execution_count": null,
      "outputs": [
        {
          "output_type": "execute_result",
          "data": {
            "text/plain": [
              "title             0\n",
              "year              0\n",
              "description     432\n",
              "genre            36\n",
              "rating          896\n",
              "users_rating      0\n",
              "votes             0\n",
              "languages         0\n",
              "directors         7\n",
              "actors            0\n",
              "runtime         403\n",
              "dtype: int64"
            ]
          },
          "metadata": {
            "tags": []
          },
          "execution_count": 12
        }
      ]
    },
    {
      "cell_type": "code",
      "metadata": {
        "id": "SsR7pFHkacLd",
        "outputId": "c542469c-5c7e-428c-cd3a-ad446368bb2b",
        "colab": {
          "base_uri": "https://localhost:8080/",
          "height": 136
        }
      },
      "source": [
        "dataset.max()"
      ],
      "execution_count": null,
      "outputs": [
        {
          "output_type": "execute_result",
          "data": {
            "text/plain": [
              "title                                                      Ziarah\n",
              "year                                                         2020\n",
              "users_rating                                                  9.4\n",
              "votes                                                         981\n",
              "languages                                             Minangkabau\n",
              "actors          [nan, nan, nan, nan, nan, nan, nan, nan, nan, ...\n",
              "dtype: object"
            ]
          },
          "metadata": {
            "tags": []
          },
          "execution_count": 13
        }
      ]
    },
    {
      "cell_type": "code",
      "metadata": {
        "id": "1EewSBHBaicC",
        "outputId": "5462f483-fc63-48b5-e3f6-60cdb1bfba72",
        "colab": {
          "base_uri": "https://localhost:8080/",
          "height": 136
        }
      },
      "source": [
        "dataset.min()"
      ],
      "execution_count": null,
      "outputs": [
        {
          "output_type": "execute_result",
          "data": {
            "text/plain": [
              "title                                                         #66\n",
              "year                                                         1926\n",
              "users_rating                                                  1.2\n",
              "votes                                                       1,004\n",
              "languages                                                   Dutch\n",
              "actors          [\"Ghea D'Syawal\", 'Reymond Knuliq', 'Djati Kus...\n",
              "dtype: object"
            ]
          },
          "metadata": {
            "tags": []
          },
          "execution_count": 14
        }
      ]
    },
    {
      "cell_type": "code",
      "metadata": {
        "id": "mVzVOkIJaqr5",
        "outputId": "b75bea7e-49da-4a53-b490-1f831f767b18",
        "colab": {
          "base_uri": "https://localhost:8080/",
          "height": 297
        }
      },
      "source": [
        "dataset.describe()"
      ],
      "execution_count": null,
      "outputs": [
        {
          "output_type": "execute_result",
          "data": {
            "text/html": [
              "<div>\n",
              "<style scoped>\n",
              "    .dataframe tbody tr th:only-of-type {\n",
              "        vertical-align: middle;\n",
              "    }\n",
              "\n",
              "    .dataframe tbody tr th {\n",
              "        vertical-align: top;\n",
              "    }\n",
              "\n",
              "    .dataframe thead th {\n",
              "        text-align: right;\n",
              "    }\n",
              "</style>\n",
              "<table border=\"1\" class=\"dataframe\">\n",
              "  <thead>\n",
              "    <tr style=\"text-align: right;\">\n",
              "      <th></th>\n",
              "      <th>year</th>\n",
              "      <th>users_rating</th>\n",
              "    </tr>\n",
              "  </thead>\n",
              "  <tbody>\n",
              "    <tr>\n",
              "      <th>count</th>\n",
              "      <td>1272.000000</td>\n",
              "      <td>1272.000000</td>\n",
              "    </tr>\n",
              "    <tr>\n",
              "      <th>mean</th>\n",
              "      <td>2007.023585</td>\n",
              "      <td>6.144418</td>\n",
              "    </tr>\n",
              "    <tr>\n",
              "      <th>std</th>\n",
              "      <td>12.968560</td>\n",
              "      <td>1.389315</td>\n",
              "    </tr>\n",
              "    <tr>\n",
              "      <th>min</th>\n",
              "      <td>1926.000000</td>\n",
              "      <td>1.200000</td>\n",
              "    </tr>\n",
              "    <tr>\n",
              "      <th>25%</th>\n",
              "      <td>2006.000000</td>\n",
              "      <td>5.300000</td>\n",
              "    </tr>\n",
              "    <tr>\n",
              "      <th>50%</th>\n",
              "      <td>2011.000000</td>\n",
              "      <td>6.400000</td>\n",
              "    </tr>\n",
              "    <tr>\n",
              "      <th>75%</th>\n",
              "      <td>2016.000000</td>\n",
              "      <td>7.100000</td>\n",
              "    </tr>\n",
              "    <tr>\n",
              "      <th>max</th>\n",
              "      <td>2020.000000</td>\n",
              "      <td>9.400000</td>\n",
              "    </tr>\n",
              "  </tbody>\n",
              "</table>\n",
              "</div>"
            ],
            "text/plain": [
              "              year  users_rating\n",
              "count  1272.000000   1272.000000\n",
              "mean   2007.023585      6.144418\n",
              "std      12.968560      1.389315\n",
              "min    1926.000000      1.200000\n",
              "25%    2006.000000      5.300000\n",
              "50%    2011.000000      6.400000\n",
              "75%    2016.000000      7.100000\n",
              "max    2020.000000      9.400000"
            ]
          },
          "metadata": {
            "tags": []
          },
          "execution_count": 15
        }
      ]
    },
    {
      "cell_type": "code",
      "metadata": {
        "id": "p05She-ca1P1",
        "outputId": "bd65f55d-503d-4010-db9d-9b19723f3e2d",
        "colab": {
          "base_uri": "https://localhost:8080/",
          "height": 34
        }
      },
      "source": [
        "dataset.describe().loc['max','year']"
      ],
      "execution_count": null,
      "outputs": [
        {
          "output_type": "execute_result",
          "data": {
            "text/plain": [
              "2020.0"
            ]
          },
          "metadata": {
            "tags": []
          },
          "execution_count": 16
        }
      ]
    },
    {
      "cell_type": "code",
      "metadata": {
        "id": "1qp6r7_JbOLK",
        "outputId": "85ecc3d6-9477-4359-a943-eaa9b1ad6834",
        "colab": {
          "base_uri": "https://localhost:8080/",
          "height": 34
        }
      },
      "source": [
        "dataset.describe().loc['max','users_rating']"
      ],
      "execution_count": null,
      "outputs": [
        {
          "output_type": "execute_result",
          "data": {
            "text/plain": [
              "9.4"
            ]
          },
          "metadata": {
            "tags": []
          },
          "execution_count": 18
        }
      ]
    },
    {
      "cell_type": "code",
      "metadata": {
        "id": "5WYq9FxlbzdS"
      },
      "source": [
        "data=dataset.dropna()"
      ],
      "execution_count": null,
      "outputs": []
    },
    {
      "cell_type": "code",
      "metadata": {
        "id": "6u5hXRIwb_lU",
        "outputId": "ba40b94f-2bf8-460f-bd2c-0a52ccec97e4",
        "colab": {
          "base_uri": "https://localhost:8080/",
          "height": 34
        }
      },
      "source": [
        "data.shape"
      ],
      "execution_count": null,
      "outputs": [
        {
          "output_type": "execute_result",
          "data": {
            "text/plain": [
              "(286, 11)"
            ]
          },
          "metadata": {
            "tags": []
          },
          "execution_count": 20
        }
      ]
    },
    {
      "cell_type": "code",
      "metadata": {
        "id": "8RCgxE2Tc143",
        "outputId": "39ba8135-e62e-4736-9472-0860118d759c",
        "colab": {
          "base_uri": "https://localhost:8080/",
          "height": 221
        }
      },
      "source": [
        "y=data['year']\n",
        "y"
      ],
      "execution_count": null,
      "outputs": [
        {
          "output_type": "execute_result",
          "data": {
            "text/plain": [
              "0       2020\n",
              "1       2020\n",
              "2       2020\n",
              "3       2020\n",
              "4       2020\n",
              "        ... \n",
              "1175    1983\n",
              "1192    1982\n",
              "1197    1982\n",
              "1215    1981\n",
              "1222    1980\n",
              "Name: year, Length: 286, dtype: int64"
            ]
          },
          "metadata": {
            "tags": []
          },
          "execution_count": 21
        }
      ]
    },
    {
      "cell_type": "code",
      "metadata": {
        "id": "O6adwCoFc_GK",
        "outputId": "ab34a96d-d40f-480e-9c97-05d4724e42a8",
        "colab": {
          "base_uri": "https://localhost:8080/",
          "height": 419
        }
      },
      "source": [
        "fitur=['title','year']\n",
        "x=data[fitur]\n",
        "x"
      ],
      "execution_count": null,
      "outputs": [
        {
          "output_type": "execute_result",
          "data": {
            "text/html": [
              "<div>\n",
              "<style scoped>\n",
              "    .dataframe tbody tr th:only-of-type {\n",
              "        vertical-align: middle;\n",
              "    }\n",
              "\n",
              "    .dataframe tbody tr th {\n",
              "        vertical-align: top;\n",
              "    }\n",
              "\n",
              "    .dataframe thead th {\n",
              "        text-align: right;\n",
              "    }\n",
              "</style>\n",
              "<table border=\"1\" class=\"dataframe\">\n",
              "  <thead>\n",
              "    <tr style=\"text-align: right;\">\n",
              "      <th></th>\n",
              "      <th>title</th>\n",
              "      <th>year</th>\n",
              "    </tr>\n",
              "  </thead>\n",
              "  <tbody>\n",
              "    <tr>\n",
              "      <th>0</th>\n",
              "      <td>#FriendButMarried 2</td>\n",
              "      <td>2020</td>\n",
              "    </tr>\n",
              "    <tr>\n",
              "      <th>1</th>\n",
              "      <td>4 Mantan</td>\n",
              "      <td>2020</td>\n",
              "    </tr>\n",
              "    <tr>\n",
              "      <th>2</th>\n",
              "      <td>Aku Tahu Kapan Kamu Mati</td>\n",
              "      <td>2020</td>\n",
              "    </tr>\n",
              "    <tr>\n",
              "      <th>3</th>\n",
              "      <td>Anak Garuda</td>\n",
              "      <td>2020</td>\n",
              "    </tr>\n",
              "    <tr>\n",
              "      <th>4</th>\n",
              "      <td>Dignitate</td>\n",
              "      <td>2020</td>\n",
              "    </tr>\n",
              "    <tr>\n",
              "      <th>...</th>\n",
              "      <td>...</td>\n",
              "      <td>...</td>\n",
              "    </tr>\n",
              "    <tr>\n",
              "      <th>1175</th>\n",
              "      <td>Escape from Hellhole</td>\n",
              "      <td>1983</td>\n",
              "    </tr>\n",
              "    <tr>\n",
              "      <th>1192</th>\n",
              "      <td>Ferocious Female Freedom Fighters</td>\n",
              "      <td>1982</td>\n",
              "    </tr>\n",
              "    <tr>\n",
              "      <th>1197</th>\n",
              "      <td>Pengabdi Setan</td>\n",
              "      <td>1982</td>\n",
              "    </tr>\n",
              "    <tr>\n",
              "      <th>1215</th>\n",
              "      <td>Steel-Fisted Dragon</td>\n",
              "      <td>1981</td>\n",
              "    </tr>\n",
              "    <tr>\n",
              "      <th>1222</th>\n",
              "      <td>Savage Terror</td>\n",
              "      <td>1980</td>\n",
              "    </tr>\n",
              "  </tbody>\n",
              "</table>\n",
              "<p>286 rows × 2 columns</p>\n",
              "</div>"
            ],
            "text/plain": [
              "                                  title  year\n",
              "0                   #FriendButMarried 2  2020\n",
              "1                              4 Mantan  2020\n",
              "2              Aku Tahu Kapan Kamu Mati  2020\n",
              "3                           Anak Garuda  2020\n",
              "4                             Dignitate  2020\n",
              "...                                 ...   ...\n",
              "1175               Escape from Hellhole  1983\n",
              "1192  Ferocious Female Freedom Fighters  1982\n",
              "1197                     Pengabdi Setan  1982\n",
              "1215                Steel-Fisted Dragon  1981\n",
              "1222                      Savage Terror  1980\n",
              "\n",
              "[286 rows x 2 columns]"
            ]
          },
          "metadata": {
            "tags": []
          },
          "execution_count": 23
        }
      ]
    }
  ]
}