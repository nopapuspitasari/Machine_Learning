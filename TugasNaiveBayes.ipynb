{
  "nbformat": 4,
  "nbformat_minor": 0,
  "metadata": {
    "colab": {
      "name": "TugasNaiveBayes.ipynb",
      "provenance": [],
      "mount_file_id": "18XNpNyO9dvZuxK7TdzJGgaEe083Tz6Fr",
      "authorship_tag": "ABX9TyMxlminY9sNTe5FhvgHaBXx",
      "include_colab_link": true
    },
    "kernelspec": {
      "name": "python3",
      "display_name": "Python 3"
    }
  },
  "cells": [
    {
      "cell_type": "markdown",
      "metadata": {
        "id": "view-in-github",
        "colab_type": "text"
      },
      "source": [
        "<a href=\"https://colab.research.google.com/github/nopapuspitasari/Machine_Learning/blob/main/TugasNaiveBayes.ipynb\" target=\"_parent\"><img src=\"https://colab.research.google.com/assets/colab-badge.svg\" alt=\"Open In Colab\"/></a>"
      ]
    },
    {
      "cell_type": "code",
      "metadata": {
        "id": "KpLAfAC-GbZb"
      },
      "source": [
        "outlook = ['Sunny','Sunny','Overcast','Rain','Rain','Rain','Overcast','Sunny','Sunny','Rain','Sunny','Overcast','Overcast','Rain']\r\n",
        "temp    = ['Hot',  'Hot',  'Mild',    'Mild','Cool','Cool','Cool',    'Mild', 'Cool', 'Mild','Mild', 'Mild',    'Mild',    'Mild']\r\n",
        "humidity= ['High', 'High', 'High',    'High','Normal','Normal','Normal','High','Normal','Normal','Normal', 'High','Normal','High']\r\n",
        "wind    = ['Weak', 'Strong','Weak',   'Weak','Weak','Strong','Strong','Weak', 'Weak', 'Weak','Strong','Strong', 'Weak',    'Strong']\r\n",
        "play    = ['No',   'No',   'Yes',     'Yes', 'Yes', 'No',  'Yes',     'No',   'Yes',  'Yes', 'Yes',   'Yes',    'Yes',     'No']"
      ],
      "execution_count": 13,
      "outputs": []
    },
    {
      "cell_type": "code",
      "metadata": {
        "colab": {
          "base_uri": "https://localhost:8080/"
        },
        "id": "Jh4rfGb6KqqD",
        "outputId": "e04a0cea-06ef-48fd-be25-82ee4addaa66"
      },
      "source": [
        "from sklearn import preprocessing\r\n",
        "le = preprocessing.LabelEncoder()\r\n",
        "outlook_encoded=le.fit_transform(outlook)\r\n",
        "print (outlook_encoded)"
      ],
      "execution_count": 14,
      "outputs": [
        {
          "output_type": "stream",
          "text": [
            "[2 2 0 1 1 1 0 2 2 1 2 0 0 1]\n"
          ],
          "name": "stdout"
        }
      ]
    },
    {
      "cell_type": "code",
      "metadata": {
        "colab": {
          "base_uri": "https://localhost:8080/"
        },
        "id": "4MQs0BdxLXxg",
        "outputId": "27b2ccce-3ec8-4c39-a2dc-2315e7f4156f"
      },
      "source": [
        "temp_encoded=le.fit_transform(temp)\r\n",
        "humidity_encoded=le.fit_transform(humidity)\r\n",
        "wind_encoded=le.fit_transform(wind)\r\n",
        "play_encoded=le.fit_transform(play)\r\n",
        "print (\"Temp    :\",temp_encoded)\r\n",
        "print (\"Humidity:\",humidity_encoded)\r\n",
        "print (\"Wind    :\",wind_encoded)\r\n",
        "print (\"Play    :\",play_encoded)"
      ],
      "execution_count": 18,
      "outputs": [
        {
          "output_type": "stream",
          "text": [
            "Temp    : [1 1 2 2 0 0 0 2 0 2 2 2 2 2]\n",
            "Humidity: [0 0 0 0 1 1 1 0 1 1 1 0 1 0]\n",
            "Wind    : [1 0 1 1 1 0 0 1 1 1 0 0 1 0]\n",
            "Play    : [0 0 1 1 1 0 1 0 1 1 1 1 1 0]\n"
          ],
          "name": "stdout"
        }
      ]
    },
    {
      "cell_type": "code",
      "metadata": {
        "colab": {
          "base_uri": "https://localhost:8080/"
        },
        "id": "Y3v_Uu1FMYa9",
        "outputId": "62f40ce1-e1e2-4d84-a0b0-fed5df658b49"
      },
      "source": [
        "features=zip(outlook_encoded,temp_encoded,humidity_encoded,wind_encoded)\r\n",
        "features=list(features)\r\n",
        "print (tuple(features))"
      ],
      "execution_count": 19,
      "outputs": [
        {
          "output_type": "stream",
          "text": [
            "((2, 1, 0, 1), (2, 1, 0, 0), (0, 2, 0, 1), (1, 2, 0, 1), (1, 0, 1, 1), (1, 0, 1, 0), (0, 0, 1, 0), (2, 2, 0, 1), (2, 0, 1, 1), (1, 2, 1, 1), (2, 2, 1, 0), (0, 2, 0, 0), (0, 2, 1, 1), (1, 2, 0, 0))\n"
          ],
          "name": "stdout"
        }
      ]
    },
    {
      "cell_type": "code",
      "metadata": {
        "colab": {
          "base_uri": "https://localhost:8080/"
        },
        "id": "P-nYKivqMnim",
        "outputId": "2003c6bb-1ebe-4315-9c7e-b95140528461"
      },
      "source": [
        "from sklearn.naive_bayes import GaussianNB\r\n",
        "model = GaussianNB()\r\n",
        "model.fit(features,play)\r\n",
        "\r\n",
        "predicted = model.predict([[0,1,0,0]]) #overcast = 0, Hot = 1, High = 0, Strong = 0\r\n",
        "print (\"Predicted Value:\", predicted)"
      ],
      "execution_count": 20,
      "outputs": [
        {
          "output_type": "stream",
          "text": [
            "Predicted Value: ['Yes']\n"
          ],
          "name": "stdout"
        }
      ]
    }
  ]
}