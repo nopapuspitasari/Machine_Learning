{
  "nbformat": 4,
  "nbformat_minor": 0,
  "metadata": {
    "colab": {
      "name": "TugasNaiveBayes.ipynb",
      "provenance": [],
      "authorship_tag": "ABX9TyPuSL1bA3tjYuxIftvAydEf",
      "include_colab_link": true
    },
    "kernelspec": {
      "name": "python3",
      "display_name": "Python 3"
    }
  },
  "cells": [
    {
      "cell_type": "markdown",
      "metadata": {
        "id": "view-in-github",
        "colab_type": "text"
      },
      "source": [
        "<a href=\"https://colab.research.google.com/github/nopapuspitasari/Machine_Learning/blob/main/TugasNaiveBayes.ipynb\" target=\"_parent\"><img src=\"https://colab.research.google.com/assets/colab-badge.svg\" alt=\"Open In Colab\"/></a>"
      ]
    },
    {
      "cell_type": "code",
      "metadata": {
        "id": "rKx_90UmTaTk"
      },
      "source": [
        "outlook = ['Sunny','Sunny','Overcast','Rain','Rain','Rain','Overcast','Sunny','Sunny','Rain','Sunny','Overcast','Overcast','Rain']\r\n",
        "temp    = ['Hot',  'Hot',  'Mild',    'Mild','Cool','Cool','Cool',    'Mild', 'Cool', 'Mild','Mild', 'Mild',    'Mild',    'Mild']\r\n",
        "humidity= ['High', 'High', 'High',    'High','Normal','Normal','Normal','High','Normal','Normal','Normal', 'High','Normal','High']\r\n",
        "wind    = ['Weak', 'Strong','Weak',   'Weak','Weak','Strong','Strong','Weak', 'Weak', 'Weak','Strong','Strong', 'Weak',    'Strong']\r\n",
        "play    = ['No',   'No',   'Yes',     'Yes', 'Yes', 'No',  'Yes',     'No',   'Yes',  'Yes', 'Yes',   'Yes',    'Yes',     'No']"
      ],
      "execution_count": 1,
      "outputs": []
    },
    {
      "cell_type": "code",
      "metadata": {
        "colab": {
          "base_uri": "https://localhost:8080/"
        },
        "id": "_AXAoAZiTjp5",
        "outputId": "1ec3dda7-2998-4f88-b71b-c7f7fa08c11b"
      },
      "source": [
        "from sklearn import preprocessing\r\n",
        "le = preprocessing.LabelEncoder()\r\n",
        "outlook_encoded=le.fit_transform(outlook)\r\n",
        "temp_encoded=le.fit_transform(temp)\r\n",
        "humidity_encoded=le.fit_transform(humidity)\r\n",
        "wind_encoded=le.fit_transform(wind)\r\n",
        "play_encoded=le.fit_transform(play)\r\n",
        "print (\"Outlook :\",outlook_encoded)\r\n",
        "print (\"Temp    :\",temp_encoded)\r\n",
        "print (\"Humidity:\",humidity_encoded)\r\n",
        "print (\"Wind    :\",wind_encoded)\r\n",
        "print (\"Play    :\",play_encoded)"
      ],
      "execution_count": 2,
      "outputs": [
        {
          "output_type": "stream",
          "text": [
            "Outlook : [2 2 0 1 1 1 0 2 2 1 2 0 0 1]\n",
            "Temp    : [1 1 2 2 0 0 0 2 0 2 2 2 2 2]\n",
            "Humidity: [0 0 0 0 1 1 1 0 1 1 1 0 1 0]\n",
            "Wind    : [1 0 1 1 1 0 0 1 1 1 0 0 1 0]\n",
            "Play    : [0 0 1 1 1 0 1 0 1 1 1 1 1 0]\n"
          ],
          "name": "stdout"
        }
      ]
    },
    {
      "cell_type": "code",
      "metadata": {
        "colab": {
          "base_uri": "https://localhost:8080/"
        },
        "id": "Vx2VZl-cTyef",
        "outputId": "b1f01f83-c3db-46fe-add9-f84c43a93e73"
      },
      "source": [
        "features=zip(outlook_encoded,temp_encoded,humidity_encoded,wind_encoded)\r\n",
        "features=list(features)\r\n",
        "print (tuple(features))"
      ],
      "execution_count": 3,
      "outputs": [
        {
          "output_type": "stream",
          "text": [
            "((2, 1, 0, 1), (2, 1, 0, 0), (0, 2, 0, 1), (1, 2, 0, 1), (1, 0, 1, 1), (1, 0, 1, 0), (0, 0, 1, 0), (2, 2, 0, 1), (2, 0, 1, 1), (1, 2, 1, 1), (2, 2, 1, 0), (0, 2, 0, 0), (0, 2, 1, 1), (1, 2, 0, 0))\n"
          ],
          "name": "stdout"
        }
      ]
    },
    {
      "cell_type": "code",
      "metadata": {
        "colab": {
          "base_uri": "https://localhost:8080/"
        },
        "id": "M5nqBp0xT4MZ",
        "outputId": "4c979ac9-0443-4dd4-ea7f-4a67f9682288"
      },
      "source": [
        "from sklearn.naive_bayes import GaussianNB\r\n",
        "model = GaussianNB()\r\n",
        "model.fit(features,play)\r\n",
        "\r\n",
        "predicted = model.predict([[0,1,0,0]]) #overcast = 0, Hot = 1, High = 0, Strong = 0\r\n",
        "print (\"Predicted Value:\", predicted)"
      ],
      "execution_count": 4,
      "outputs": [
        {
          "output_type": "stream",
          "text": [
            "Predicted Value: ['Yes']\n"
          ],
          "name": "stdout"
        }
      ]
    }
  ]
}