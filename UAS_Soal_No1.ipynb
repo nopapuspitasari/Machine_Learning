{
  "nbformat": 4,
  "nbformat_minor": 0,
  "metadata": {
    "colab": {
      "name": "UAS_Soal_No1.ipynb",
      "provenance": [],
      "collapsed_sections": [],
      "mount_file_id": "1QWF4u2P5cNrkgoIocszqlD_AE4XZpBEY",
      "authorship_tag": "ABX9TyMFsm11jgO8ajtNxWib3k9l",
      "include_colab_link": true
    },
    "kernelspec": {
      "name": "python3",
      "display_name": "Python 3"
    }
  },
  "cells": [
    {
      "cell_type": "markdown",
      "metadata": {
        "id": "view-in-github",
        "colab_type": "text"
      },
      "source": [
        "<a href=\"https://colab.research.google.com/github/nopapuspitasari/Machine_Learning/blob/main/UAS_Soal_No1.ipynb\" target=\"_parent\"><img src=\"https://colab.research.google.com/assets/colab-badge.svg\" alt=\"Open In Colab\"/></a>"
      ]
    },
    {
      "cell_type": "code",
      "metadata": {
        "id": "oKFwylqDzi7T"
      },
      "source": [
        "jk = ['Laki-laki', 'Laki-laki', 'Perempuan', 'Perempuan', 'Laki-laki', 'Laki-laki', 'Perempuan', 'Perempuan', 'Laki-laki', 'Perempuan']\r\n",
        "biaya = ['Murah',  'Murah',     'Murah',     'Murah',     'Murah',     'Standar',   'Standar',   'Mahal',     'Mahal',     'Mahal',]\r\n",
        "income = ['Rendah', 'Sedang',   'Sedang',    'Rendah',    'Sedang',    'Sedang',    'Sedang',    'Tinggi',    'Sedang',    'Tinggi']\r\n",
        "transport = ['Bus', 'Bus',      'Kereta Api', 'Bus',      'Bus',      'Kereta Api', 'Kereta Api', 'Mobil',    'Mobil',     'Mobil',]\r\n",
        "tujuan = ['No',     'Yes',      'Yes',       'No',        'Yes',      'No',         'Yes',       'Yes',       'No',        'No']"
      ],
      "execution_count": 1,
      "outputs": []
    },
    {
      "cell_type": "code",
      "metadata": {
        "colab": {
          "base_uri": "https://localhost:8080/"
        },
        "id": "tjxoEWiX6fdV",
        "outputId": "fed9d8f6-b8af-464a-f7d9-e981d98d3496"
      },
      "source": [
        "from sklearn import preprocessing\r\n",
        "le = preprocessing.LabelEncoder()\r\n",
        "jk_encoded=le.fit_transform(jk)\r\n",
        "print (jk_encoded)"
      ],
      "execution_count": 2,
      "outputs": [
        {
          "output_type": "stream",
          "text": [
            "[0 0 1 1 0 0 1 1 0 1]\n"
          ],
          "name": "stdout"
        }
      ]
    },
    {
      "cell_type": "code",
      "metadata": {
        "colab": {
          "base_uri": "https://localhost:8080/"
        },
        "id": "HL9ffpGe6tCh",
        "outputId": "f2b2700f-e021-4701-c884-7b7bbbc34fb4"
      },
      "source": [
        "biaya_encoded=le.fit_transform(biaya)\r\n",
        "income_encoded=le.fit_transform(income)\r\n",
        "transport_encoded=le.fit_transform(transport)\r\n",
        "tujuan_encoded=le.fit_transform(tujuan)\r\n",
        "print (\"biaya     :\",biaya_encoded)\r\n",
        "print (\"income    :\",income_encoded)\r\n",
        "print (\"transport :\",transport_encoded)\r\n",
        "print (\"tujuan    :\",tujuan_encoded)"
      ],
      "execution_count": 3,
      "outputs": [
        {
          "output_type": "stream",
          "text": [
            "biaya     : [1 1 1 1 1 2 2 0 0 0]\n",
            "income    : [0 1 1 0 1 1 1 2 1 2]\n",
            "transport : [0 0 1 0 0 1 1 2 2 2]\n",
            "tujuan    : [0 1 1 0 1 0 1 1 0 0]\n"
          ],
          "name": "stdout"
        }
      ]
    },
    {
      "cell_type": "code",
      "metadata": {
        "colab": {
          "base_uri": "https://localhost:8080/"
        },
        "id": "HmsCjeZm7Qqd",
        "outputId": "06f82cd6-266f-426e-9616-bb9b0fe7f320"
      },
      "source": [
        "features=zip(jk_encoded,biaya_encoded,income_encoded,transport_encoded)\r\n",
        "features=list(features)\r\n",
        "print (tuple(features))"
      ],
      "execution_count": 4,
      "outputs": [
        {
          "output_type": "stream",
          "text": [
            "((0, 1, 0, 0), (0, 1, 1, 0), (1, 1, 1, 1), (1, 1, 0, 0), (0, 1, 1, 0), (0, 2, 1, 1), (1, 2, 1, 1), (1, 0, 2, 2), (0, 0, 1, 2), (1, 0, 2, 2))\n"
          ],
          "name": "stdout"
        }
      ]
    },
    {
      "cell_type": "code",
      "metadata": {
        "colab": {
          "base_uri": "https://localhost:8080/"
        },
        "id": "XJe2DcE47egW",
        "outputId": "e4a9807e-f995-4da2-a5cf-ea460e443f21"
      },
      "source": [
        "from sklearn.naive_bayes import GaussianNB\r\n",
        "model = GaussianNB()\r\n",
        "model.fit(features,tujuan)\r\n",
        "\r\n",
        "predicted = model.predict([[1,2,0,0]]) #Perempuan = 1, Standar = 2, Rendah = 0, Bus = 0\r\n",
        "print (\"Predicted Value:\", predicted)"
      ],
      "execution_count": 5,
      "outputs": [
        {
          "output_type": "stream",
          "text": [
            "Predicted Value: ['No']\n"
          ],
          "name": "stdout"
        }
      ]
    }
  ]
}