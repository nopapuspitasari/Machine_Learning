{
  "nbformat": 4,
  "nbformat_minor": 0,
  "metadata": {
    "colab": {
      "name": "UTS_Nopa_Puspita_Sari.ipynb",
      "provenance": [],
      "mount_file_id": "1yBZuWTY21W3ZiwdLIcIIh2FubqhRk47X",
      "authorship_tag": "ABX9TyNSzU/F67loXilpbpicNdGR",
      "include_colab_link": true
    },
    "kernelspec": {
      "name": "python3",
      "display_name": "Python 3"
    }
  },
  "cells": [
    {
      "cell_type": "markdown",
      "metadata": {
        "id": "view-in-github",
        "colab_type": "text"
      },
      "source": [
        "<a href=\"https://colab.research.google.com/github/nopapuspitasari/Machine_Learning/blob/main/UTS_Nopa_Puspita_Sari.ipynb\" target=\"_parent\"><img src=\"https://colab.research.google.com/assets/colab-badge.svg\" alt=\"Open In Colab\"/></a>"
      ]
    },
    {
      "cell_type": "code",
      "metadata": {
        "colab": {
          "base_uri": "https://localhost:8080/"
        },
        "id": "7KAy_wjbErcz",
        "outputId": "dd2e7add-dacd-4deb-ff12-67505b0a8ee1"
      },
      "source": [
        "from google.colab import drive\n",
        "drive.mount('/content/drive')"
      ],
      "execution_count": 1,
      "outputs": [
        {
          "output_type": "stream",
          "text": [
            "Drive already mounted at /content/drive; to attempt to forcibly remount, call drive.mount(\"/content/drive\", force_remount=True).\n"
          ],
          "name": "stdout"
        }
      ]
    },
    {
      "cell_type": "code",
      "metadata": {
        "id": "GyXTTZEDFJsY"
      },
      "source": [
        "import numpy as np\n",
        "import pandas as pd"
      ],
      "execution_count": 2,
      "outputs": []
    },
    {
      "cell_type": "code",
      "metadata": {
        "colab": {
          "base_uri": "https://localhost:8080/",
          "height": 419
        },
        "id": "n51ZZRiEFNoA",
        "outputId": "2d5a785a-7f2a-457c-ff35-396cb161db72"
      },
      "source": [
        "path_=\"/content/drive/My Drive/Machine Learning/indonesian-names.csv\"\n",
        "dataset=pd.read_csv(path_)\n",
        "dataset"
      ],
      "execution_count": 3,
      "outputs": [
        {
          "output_type": "execute_result",
          "data": {
            "text/html": [
              "<div>\n",
              "<style scoped>\n",
              "    .dataframe tbody tr th:only-of-type {\n",
              "        vertical-align: middle;\n",
              "    }\n",
              "\n",
              "    .dataframe tbody tr th {\n",
              "        vertical-align: top;\n",
              "    }\n",
              "\n",
              "    .dataframe thead th {\n",
              "        text-align: right;\n",
              "    }\n",
              "</style>\n",
              "<table border=\"1\" class=\"dataframe\">\n",
              "  <thead>\n",
              "    <tr style=\"text-align: right;\">\n",
              "      <th></th>\n",
              "      <th>name</th>\n",
              "      <th>gender</th>\n",
              "    </tr>\n",
              "  </thead>\n",
              "  <tbody>\n",
              "    <tr>\n",
              "      <th>0</th>\n",
              "      <td>hafizhan shidqi</td>\n",
              "      <td>m</td>\n",
              "    </tr>\n",
              "    <tr>\n",
              "      <th>1</th>\n",
              "      <td>gandhi wibowo</td>\n",
              "      <td>m</td>\n",
              "    </tr>\n",
              "    <tr>\n",
              "      <th>2</th>\n",
              "      <td>aldio mahendra purwandrarto</td>\n",
              "      <td>m</td>\n",
              "    </tr>\n",
              "    <tr>\n",
              "      <th>3</th>\n",
              "      <td>benny putra</td>\n",
              "      <td>m</td>\n",
              "    </tr>\n",
              "    <tr>\n",
              "      <th>4</th>\n",
              "      <td>vicky vernando dasta</td>\n",
              "      <td>m</td>\n",
              "    </tr>\n",
              "    <tr>\n",
              "      <th>...</th>\n",
              "      <td>...</td>\n",
              "      <td>...</td>\n",
              "    </tr>\n",
              "    <tr>\n",
              "      <th>1955</th>\n",
              "      <td>hadimah</td>\n",
              "      <td>f</td>\n",
              "    </tr>\n",
              "    <tr>\n",
              "      <th>1956</th>\n",
              "      <td>aprillia rahma wati</td>\n",
              "      <td>f</td>\n",
              "    </tr>\n",
              "    <tr>\n",
              "      <th>1957</th>\n",
              "      <td>muhamad khoirunisa. m</td>\n",
              "      <td>m</td>\n",
              "    </tr>\n",
              "    <tr>\n",
              "      <th>1958</th>\n",
              "      <td>sukandi</td>\n",
              "      <td>m</td>\n",
              "    </tr>\n",
              "    <tr>\n",
              "      <th>1959</th>\n",
              "      <td>eem</td>\n",
              "      <td>f</td>\n",
              "    </tr>\n",
              "  </tbody>\n",
              "</table>\n",
              "<p>1960 rows × 2 columns</p>\n",
              "</div>"
            ],
            "text/plain": [
              "                             name gender\n",
              "0                 hafizhan shidqi      m\n",
              "1                   gandhi wibowo      m\n",
              "2     aldio mahendra purwandrarto      m\n",
              "3                     benny putra      m\n",
              "4            vicky vernando dasta      m\n",
              "...                           ...    ...\n",
              "1955                      hadimah      f\n",
              "1956          aprillia rahma wati      f\n",
              "1957        muhamad khoirunisa. m      m\n",
              "1958                      sukandi      m\n",
              "1959                          eem      f\n",
              "\n",
              "[1960 rows x 2 columns]"
            ]
          },
          "metadata": {
            "tags": []
          },
          "execution_count": 3
        }
      ]
    },
    {
      "cell_type": "code",
      "metadata": {
        "colab": {
          "base_uri": "https://localhost:8080/"
        },
        "id": "cSzheeZ9GTqk",
        "outputId": "0c239b4c-14c1-462f-863b-77bfa62144ca"
      },
      "source": [
        "dataset.dtypes"
      ],
      "execution_count": 4,
      "outputs": [
        {
          "output_type": "execute_result",
          "data": {
            "text/plain": [
              "name      object\n",
              "gender    object\n",
              "dtype: object"
            ]
          },
          "metadata": {
            "tags": []
          },
          "execution_count": 4
        }
      ]
    },
    {
      "cell_type": "code",
      "metadata": {
        "id": "G06z11v6GXWU"
      },
      "source": [
        "x=dataset['name']\n",
        "y=dataset['gender']"
      ],
      "execution_count": 7,
      "outputs": []
    },
    {
      "cell_type": "code",
      "metadata": {
        "colab": {
          "base_uri": "https://localhost:8080/"
        },
        "id": "9uzeykvNHAfQ",
        "outputId": "2ced6e87-5780-48d7-ba8b-8781a7cfa064"
      },
      "source": [
        "x"
      ],
      "execution_count": 8,
      "outputs": [
        {
          "output_type": "execute_result",
          "data": {
            "text/plain": [
              "0                   hafizhan shidqi\n",
              "1                     gandhi wibowo\n",
              "2       aldio mahendra purwandrarto\n",
              "3                       benny putra\n",
              "4              vicky vernando dasta\n",
              "                   ...             \n",
              "1955                        hadimah\n",
              "1956            aprillia rahma wati\n",
              "1957          muhamad khoirunisa. m\n",
              "1958                        sukandi\n",
              "1959                            eem\n",
              "Name: name, Length: 1960, dtype: object"
            ]
          },
          "metadata": {
            "tags": []
          },
          "execution_count": 8
        }
      ]
    },
    {
      "cell_type": "code",
      "metadata": {
        "colab": {
          "base_uri": "https://localhost:8080/"
        },
        "id": "31PFu-NXHLPx",
        "outputId": "bda0dc0d-a083-4236-dc00-8807cf48f76b"
      },
      "source": [
        "y"
      ],
      "execution_count": 9,
      "outputs": [
        {
          "output_type": "execute_result",
          "data": {
            "text/plain": [
              "0       m\n",
              "1       m\n",
              "2       m\n",
              "3       m\n",
              "4       m\n",
              "       ..\n",
              "1955    f\n",
              "1956    f\n",
              "1957    m\n",
              "1958    m\n",
              "1959    f\n",
              "Name: gender, Length: 1960, dtype: object"
            ]
          },
          "metadata": {
            "tags": []
          },
          "execution_count": 9
        }
      ]
    },
    {
      "cell_type": "code",
      "metadata": {
        "id": "QxKbdfNMHNnn"
      },
      "source": [
        "from sklearn.model_selection import train_test_split"
      ],
      "execution_count": 10,
      "outputs": []
    },
    {
      "cell_type": "code",
      "metadata": {
        "id": "wWerGZwjHe7I"
      },
      "source": [
        "x_train,x_test,y_train,y_test=train_test_split(x,y,test_size=0.7)"
      ],
      "execution_count": 16,
      "outputs": []
    },
    {
      "cell_type": "code",
      "metadata": {
        "colab": {
          "base_uri": "https://localhost:8080/"
        },
        "id": "VvY5EH7JIA-J",
        "outputId": "6f6397c5-e1ea-40c7-8c5c-6902c453f249"
      },
      "source": [
        "len (x_train)"
      ],
      "execution_count": 12,
      "outputs": [
        {
          "output_type": "execute_result",
          "data": {
            "text/plain": [
              "588"
            ]
          },
          "metadata": {
            "tags": []
          },
          "execution_count": 12
        }
      ]
    },
    {
      "cell_type": "code",
      "metadata": {
        "colab": {
          "base_uri": "https://localhost:8080/"
        },
        "id": "VXPz0WVVIH6Y",
        "outputId": "3ecf58cd-daf0-4ecb-8e4c-37c9baa5bf56"
      },
      "source": [
        "len (x_test)"
      ],
      "execution_count": 13,
      "outputs": [
        {
          "output_type": "execute_result",
          "data": {
            "text/plain": [
              "1372"
            ]
          },
          "metadata": {
            "tags": []
          },
          "execution_count": 13
        }
      ]
    },
    {
      "cell_type": "code",
      "metadata": {
        "colab": {
          "base_uri": "https://localhost:8080/"
        },
        "id": "q2fkdRddItZI",
        "outputId": "d0b240a2-304b-4596-ea2e-d7105fcb168b"
      },
      "source": [
        "len (y_train)"
      ],
      "execution_count": 17,
      "outputs": [
        {
          "output_type": "execute_result",
          "data": {
            "text/plain": [
              "588"
            ]
          },
          "metadata": {
            "tags": []
          },
          "execution_count": 17
        }
      ]
    },
    {
      "cell_type": "code",
      "metadata": {
        "colab": {
          "base_uri": "https://localhost:8080/"
        },
        "id": "1lV9DHp0IzHI",
        "outputId": "220bd017-ca26-4d74-b20a-25af74186b69"
      },
      "source": [
        "len (y_test)"
      ],
      "execution_count": 18,
      "outputs": [
        {
          "output_type": "execute_result",
          "data": {
            "text/plain": [
              "1372"
            ]
          },
          "metadata": {
            "tags": []
          },
          "execution_count": 18
        }
      ]
    },
    {
      "cell_type": "code",
      "metadata": {
        "colab": {
          "base_uri": "https://localhost:8080/"
        },
        "id": "zhgosCxdJR96",
        "outputId": "d4c6a86e-0474-46ca-9b16-44065662fb36"
      },
      "source": [
        "x_train"
      ],
      "execution_count": 19,
      "outputs": [
        {
          "output_type": "execute_result",
          "data": {
            "text/plain": [
              "1956            aprillia rahma wati\n",
              "112                  zukri adinalta\n",
              "1266                    sri khayati\n",
              "1011    silvia ayu nadira rahmawati\n",
              "1565                    dwi prayogi\n",
              "                   ...             \n",
              "1667                  ajeng kartika\n",
              "501                   tri mandrasih\n",
              "1756                 yahya marhamah\n",
              "485                        setiawan\n",
              "679            muhammad faizin alwi\n",
              "Name: name, Length: 588, dtype: object"
            ]
          },
          "metadata": {
            "tags": []
          },
          "execution_count": 19
        }
      ]
    },
    {
      "cell_type": "code",
      "metadata": {
        "colab": {
          "base_uri": "https://localhost:8080/"
        },
        "id": "HLyIGB-7Jhc_",
        "outputId": "89fe8dde-173f-4902-aece-7a8dab62d07c"
      },
      "source": [
        "x_test"
      ],
      "execution_count": 20,
      "outputs": [
        {
          "output_type": "execute_result",
          "data": {
            "text/plain": [
              "904                    bawiati\n",
              "1097      annida hasnaul atika\n",
              "527                sri martini\n",
              "1592                   sumilan\n",
              "17      fahmi iqbal firmananda\n",
              "                 ...          \n",
              "865            muhammad albana\n",
              "1490          rohana ayu fitri\n",
              "1726           toppiq setiawan\n",
              "799          diana nur fhaisah\n",
              "1079                   m. amin\n",
              "Name: name, Length: 1372, dtype: object"
            ]
          },
          "metadata": {
            "tags": []
          },
          "execution_count": 20
        }
      ]
    },
    {
      "cell_type": "code",
      "metadata": {
        "colab": {
          "base_uri": "https://localhost:8080/"
        },
        "id": "owDIhNTKJlKO",
        "outputId": "e08db465-6402-446a-985b-d0405bcedefa"
      },
      "source": [
        "y_train"
      ],
      "execution_count": 21,
      "outputs": [
        {
          "output_type": "execute_result",
          "data": {
            "text/plain": [
              "1956    f\n",
              "112     m\n",
              "1266    f\n",
              "1011    f\n",
              "1565    m\n",
              "       ..\n",
              "1667    f\n",
              "501     f\n",
              "1756    m\n",
              "485     m\n",
              "679     m\n",
              "Name: gender, Length: 588, dtype: object"
            ]
          },
          "metadata": {
            "tags": []
          },
          "execution_count": 21
        }
      ]
    },
    {
      "cell_type": "code",
      "metadata": {
        "colab": {
          "base_uri": "https://localhost:8080/"
        },
        "id": "M-EE5f3KJnye",
        "outputId": "a27e1575-83ac-4451-e41c-a96e9dab81de"
      },
      "source": [
        "y_test"
      ],
      "execution_count": 22,
      "outputs": [
        {
          "output_type": "execute_result",
          "data": {
            "text/plain": [
              "904     f\n",
              "1097    f\n",
              "527     f\n",
              "1592    m\n",
              "17      m\n",
              "       ..\n",
              "865     m\n",
              "1490    f\n",
              "1726    m\n",
              "799     f\n",
              "1079    m\n",
              "Name: gender, Length: 1372, dtype: object"
            ]
          },
          "metadata": {
            "tags": []
          },
          "execution_count": 22
        }
      ]
    },
    {
      "cell_type": "code",
      "metadata": {
        "id": "0wszRD9sJqE9"
      },
      "source": [
        "x_train,x_test,y_train,y_test=train_test_split(x,y,test_size=0.8)"
      ],
      "execution_count": 23,
      "outputs": []
    },
    {
      "cell_type": "code",
      "metadata": {
        "colab": {
          "base_uri": "https://localhost:8080/"
        },
        "id": "KlU7Nff1Jw97",
        "outputId": "615ee65e-9d65-4a3f-b2a0-0e4cde45edc1"
      },
      "source": [
        "len (x_train)"
      ],
      "execution_count": 26,
      "outputs": [
        {
          "output_type": "execute_result",
          "data": {
            "text/plain": [
              "392"
            ]
          },
          "metadata": {
            "tags": []
          },
          "execution_count": 26
        }
      ]
    },
    {
      "cell_type": "code",
      "metadata": {
        "colab": {
          "base_uri": "https://localhost:8080/"
        },
        "id": "BYmzQIaxKB_3",
        "outputId": "b323aa90-6962-4d78-b028-c8a153fb6ac0"
      },
      "source": [
        "len (x_test)"
      ],
      "execution_count": 27,
      "outputs": [
        {
          "output_type": "execute_result",
          "data": {
            "text/plain": [
              "1568"
            ]
          },
          "metadata": {
            "tags": []
          },
          "execution_count": 27
        }
      ]
    },
    {
      "cell_type": "code",
      "metadata": {
        "colab": {
          "base_uri": "https://localhost:8080/"
        },
        "id": "9WpGuiaBKHPZ",
        "outputId": "d2503b96-3148-47cb-9e92-1e490398fd7f"
      },
      "source": [
        "len (y_test)"
      ],
      "execution_count": 28,
      "outputs": [
        {
          "output_type": "execute_result",
          "data": {
            "text/plain": [
              "1568"
            ]
          },
          "metadata": {
            "tags": []
          },
          "execution_count": 28
        }
      ]
    },
    {
      "cell_type": "code",
      "metadata": {
        "colab": {
          "base_uri": "https://localhost:8080/"
        },
        "id": "S1xgSfk4KK49",
        "outputId": "9ccc40af-0b31-4ec0-f9e5-658541001d55"
      },
      "source": [
        "len (y_train)"
      ],
      "execution_count": 29,
      "outputs": [
        {
          "output_type": "execute_result",
          "data": {
            "text/plain": [
              "392"
            ]
          },
          "metadata": {
            "tags": []
          },
          "execution_count": 29
        }
      ]
    },
    {
      "cell_type": "code",
      "metadata": {
        "colab": {
          "base_uri": "https://localhost:8080/"
        },
        "id": "-KXtSCqNKoFw",
        "outputId": "26270a2e-8f50-40a2-a014-245ef1b7a375"
      },
      "source": [
        "x_train"
      ],
      "execution_count": 30,
      "outputs": [
        {
          "output_type": "execute_result",
          "data": {
            "text/plain": [
              "98        mardiyyat fadliellah\n",
              "1699                   karisun\n",
              "1728      gesang ambar prastyo\n",
              "1618                   saminah\n",
              "1773            taufik hidayat\n",
              "                 ...          \n",
              "1220                siti aisah\n",
              "1095    azizah hanifatur rahma\n",
              "1389                   legiyem\n",
              "1262                  sutrisno\n",
              "1225         budiman syahputra\n",
              "Name: name, Length: 392, dtype: object"
            ]
          },
          "metadata": {
            "tags": []
          },
          "execution_count": 30
        }
      ]
    },
    {
      "cell_type": "code",
      "metadata": {
        "colab": {
          "base_uri": "https://localhost:8080/"
        },
        "id": "Xwnt8r1BKrqT",
        "outputId": "a35407cb-0b24-4e7d-f9bb-560e7b2faa3f"
      },
      "source": [
        "x_test"
      ],
      "execution_count": 31,
      "outputs": [
        {
          "output_type": "execute_result",
          "data": {
            "text/plain": [
              "866              salwa unaisah\n",
              "1437     herlini etri widianti\n",
              "1501    rindi septia yanmilani\n",
              "1549               fiki wibowo\n",
              "1154            asiva nur aini\n",
              "                 ...          \n",
              "1837               ade lestari\n",
              "1729                     sutar\n",
              "1919    triana seftiani rahayu\n",
              "1562                    rahman\n",
              "1897     amal lia nur styawaty\n",
              "Name: name, Length: 1568, dtype: object"
            ]
          },
          "metadata": {
            "tags": []
          },
          "execution_count": 31
        }
      ]
    },
    {
      "cell_type": "code",
      "metadata": {
        "colab": {
          "base_uri": "https://localhost:8080/"
        },
        "id": "MFZi9b8zKufj",
        "outputId": "b8bc23ba-2571-4ecb-9c7b-1a02b6dd02e2"
      },
      "source": [
        "y_train"
      ],
      "execution_count": 32,
      "outputs": [
        {
          "output_type": "execute_result",
          "data": {
            "text/plain": [
              "98      m\n",
              "1699    m\n",
              "1728    m\n",
              "1618    f\n",
              "1773    m\n",
              "       ..\n",
              "1220    f\n",
              "1095    f\n",
              "1389    f\n",
              "1262    m\n",
              "1225    m\n",
              "Name: gender, Length: 392, dtype: object"
            ]
          },
          "metadata": {
            "tags": []
          },
          "execution_count": 32
        }
      ]
    },
    {
      "cell_type": "code",
      "metadata": {
        "colab": {
          "base_uri": "https://localhost:8080/"
        },
        "id": "oyWvc9a3KwtB",
        "outputId": "d9880503-aa6e-43a8-97ed-4eadc3b6928b"
      },
      "source": [
        "y_test"
      ],
      "execution_count": 33,
      "outputs": [
        {
          "output_type": "execute_result",
          "data": {
            "text/plain": [
              "866     f\n",
              "1437    f\n",
              "1501    f\n",
              "1549    m\n",
              "1154    f\n",
              "       ..\n",
              "1837    f\n",
              "1729    m\n",
              "1919    f\n",
              "1562    m\n",
              "1897    f\n",
              "Name: gender, Length: 1568, dtype: object"
            ]
          },
          "metadata": {
            "tags": []
          },
          "execution_count": 33
        }
      ]
    },
    {
      "cell_type": "code",
      "metadata": {
        "id": "GxvJWet_S35Q"
      },
      "source": [
        "import pandas as pd\n",
        "import matplotlib.pyplot as plt\n",
        "from sklearn.linear_model import LinearRegression\n",
        "from sklearn.model_selection import train_test_split"
      ],
      "execution_count": 34,
      "outputs": []
    },
    {
      "cell_type": "code",
      "metadata": {
        "id": "Ubse3oiTTRv3"
      },
      "source": [
        "path_=\"/content/drive/My Drive/Machine Learning/student_scores.csv\"\n",
        "df = pd.read_csv(path_,usecols=['Hours','Scores'])"
      ],
      "execution_count": 35,
      "outputs": []
    },
    {
      "cell_type": "code",
      "metadata": {
        "colab": {
          "base_uri": "https://localhost:8080/"
        },
        "id": "uMXrVKxuUq46",
        "outputId": "0bed5b70-330a-4b96-9653-f0caa106ec20"
      },
      "source": [
        "df.shape"
      ],
      "execution_count": 36,
      "outputs": [
        {
          "output_type": "execute_result",
          "data": {
            "text/plain": [
              "(25, 2)"
            ]
          },
          "metadata": {
            "tags": []
          },
          "execution_count": 36
        }
      ]
    },
    {
      "cell_type": "code",
      "metadata": {
        "id": "I4-X1JSLUyXy"
      },
      "source": [
        "a = df['Hours'].values.reshape(-1,1)\n",
        "b = df['Scores'].values.reshape(-1,1)"
      ],
      "execution_count": 37,
      "outputs": []
    },
    {
      "cell_type": "code",
      "metadata": {
        "id": "wAXweXnpWbR8"
      },
      "source": [
        "a_train, a_test, b_train, b_test = train_test_split(a,b, test_size = 0.8)"
      ],
      "execution_count": 57,
      "outputs": []
    },
    {
      "cell_type": "code",
      "metadata": {
        "colab": {
          "base_uri": "https://localhost:8080/"
        },
        "id": "MahF2irPWw-8",
        "outputId": "d95b5664-dcee-4dcb-dc56-a28537c75397"
      },
      "source": [
        "len (a_train)"
      ],
      "execution_count": 39,
      "outputs": [
        {
          "output_type": "execute_result",
          "data": {
            "text/plain": [
              "5"
            ]
          },
          "metadata": {
            "tags": []
          },
          "execution_count": 39
        }
      ]
    },
    {
      "cell_type": "code",
      "metadata": {
        "colab": {
          "base_uri": "https://localhost:8080/"
        },
        "id": "bWW0Gff3W1xM",
        "outputId": "f7d368eb-c032-4ea9-ebff-044a553aebeb"
      },
      "source": [
        "len (a_test)"
      ],
      "execution_count": 58,
      "outputs": [
        {
          "output_type": "execute_result",
          "data": {
            "text/plain": [
              "20"
            ]
          },
          "metadata": {
            "tags": []
          },
          "execution_count": 58
        }
      ]
    },
    {
      "cell_type": "code",
      "metadata": {
        "colab": {
          "base_uri": "https://localhost:8080/"
        },
        "id": "0k4m1GWQXEZ3",
        "outputId": "e8f40d05-11b6-4439-ece9-da9618b52328"
      },
      "source": [
        "len (b_train)"
      ],
      "execution_count": 41,
      "outputs": [
        {
          "output_type": "execute_result",
          "data": {
            "text/plain": [
              "5"
            ]
          },
          "metadata": {
            "tags": []
          },
          "execution_count": 41
        }
      ]
    },
    {
      "cell_type": "code",
      "metadata": {
        "colab": {
          "base_uri": "https://localhost:8080/"
        },
        "id": "NgoS5EoaXI6H",
        "outputId": "266ab470-ee88-4ac4-a53c-3d6788856d1f"
      },
      "source": [
        "len (b_test)"
      ],
      "execution_count": 42,
      "outputs": [
        {
          "output_type": "execute_result",
          "data": {
            "text/plain": [
              "20"
            ]
          },
          "metadata": {
            "tags": []
          },
          "execution_count": 42
        }
      ]
    },
    {
      "cell_type": "code",
      "metadata": {
        "id": "m6IZkH91XL9s"
      },
      "source": [
        "lin_reg = LinearRegression()"
      ],
      "execution_count": 43,
      "outputs": []
    },
    {
      "cell_type": "code",
      "metadata": {
        "colab": {
          "base_uri": "https://localhost:8080/"
        },
        "id": "hMusW-ZncrnP",
        "outputId": "608801fc-6656-4466-c742-306a3451e3c6"
      },
      "source": [
        "lin_reg.fit(a_train, b_train)"
      ],
      "execution_count": 44,
      "outputs": [
        {
          "output_type": "execute_result",
          "data": {
            "text/plain": [
              "LinearRegression(copy_X=True, fit_intercept=True, n_jobs=None, normalize=False)"
            ]
          },
          "metadata": {
            "tags": []
          },
          "execution_count": 44
        }
      ]
    },
    {
      "cell_type": "code",
      "metadata": {
        "colab": {
          "base_uri": "https://localhost:8080/"
        },
        "id": "JZ0udlF9c5KM",
        "outputId": "935e74bf-b08e-49af-aa38-c4a10595307b"
      },
      "source": [
        "print(lin_reg.coef_)\n",
        "print(lin_reg.intercept_)"
      ],
      "execution_count": 45,
      "outputs": [
        {
          "output_type": "stream",
          "text": [
            "[[9.89182692]]\n",
            "[7.46634615]\n"
          ],
          "name": "stdout"
        }
      ]
    },
    {
      "cell_type": "code",
      "metadata": {
        "colab": {
          "base_uri": "https://localhost:8080/"
        },
        "id": "lIklmYoTdIWp",
        "outputId": "517ce595-d2ba-4333-eb7e-77335a461b20"
      },
      "source": [
        "lin_reg.score(a_test, b_test)"
      ],
      "execution_count": 59,
      "outputs": [
        {
          "output_type": "execute_result",
          "data": {
            "text/plain": [
              "0.9100408162715854"
            ]
          },
          "metadata": {
            "tags": []
          },
          "execution_count": 59
        }
      ]
    },
    {
      "cell_type": "code",
      "metadata": {
        "colab": {
          "base_uri": "https://localhost:8080/",
          "height": 312
        },
        "id": "qbMwvj-4dSCR",
        "outputId": "06aaed3f-f417-451b-ce35-2b6001ed68b8"
      },
      "source": [
        "b_prediksi = lin_reg.predict(a_test)\n",
        "plt.scatter(a_test, b_test)\n",
        "plt.plot(a_test, b_prediksi, c='r')\n",
        "plt.xlabel('Hours')\n",
        "plt.ylabel('Scores')\n",
        "plt.title('Plot Hours vs Scores')"
      ],
      "execution_count": 62,
      "outputs": [
        {
          "output_type": "execute_result",
          "data": {
            "text/plain": [
              "Text(0.5, 1.0, 'Plot Hours vs Scores')"
            ]
          },
          "metadata": {
            "tags": []
          },
          "execution_count": 62
        },
        {
          "output_type": "display_data",
          "data": {
            "image/png": "[encoded data removed]",
            "text/plain": [
              "<Figure size 432x288 with 1 Axes>"
            ]
          },
          "metadata": {
            "tags": [],
            "needs_background": "light"
          }
        }
      ]
    },
    {
      "cell_type": "code",
      "metadata": {
        "colab": {
          "base_uri": "https://localhost:8080/"
        },
        "id": "swNXhZqPhIz9",
        "outputId": "b72d52ba-87ce-413d-9267-902c31a6e464"
      },
      "source": [
        "lin_reg.predict(a_test)"
      ],
      "execution_count": 63,
      "outputs": [
        {
          "output_type": "execute_result",
          "data": {
            "text/plain": [
              "array([[54.94711538],\n",
              "       [95.50360577],\n",
              "       [18.34735577],\n",
              "       [80.66586538],\n",
              "       [84.62259615],\n",
              "       [83.63341346],\n",
              "       [98.47115385],\n",
              "       [32.19591346],\n",
              "       [51.97956731],\n",
              "       [22.30408654],\n",
              "       [65.828125  ],\n",
              "       [91.546875  ],\n",
              "       [67.80649038],\n",
              "       [34.17427885],\n",
              "       [34.17427885],\n",
              "       [57.91466346],\n",
              "       [32.19591346],\n",
              "       [39.12019231],\n",
              "       [26.26081731],\n",
              "       [61.87139423]])"
            ]
          },
          "metadata": {
            "tags": []
          },
          "execution_count": 63
        }
      ]
    },
    {
      "cell_type": "code",
      "metadata": {
        "colab": {
          "base_uri": "https://localhost:8080/"
        },
        "id": "VC268-uLhkaE",
        "outputId": "e5c99683-ba79-4ece-ac07-3d32f62f0f77"
      },
      "source": [
        "lin_reg.predict(b_test)"
      ],
      "execution_count": 64,
      "outputs": [
        {
          "output_type": "execute_result",
          "data": {
            "text/plain": [
              "array([[541.625     ],\n",
              "       [947.18990385],\n",
              "       [175.62740385],\n",
              "       [690.00240385],\n",
              "       [858.16346154],\n",
              "       [848.27163462],\n",
              "       [877.94711538],\n",
              "       [215.19471154],\n",
              "       [413.03125   ],\n",
              "       [205.30288462],\n",
              "       [620.75961538],\n",
              "       [749.35336538],\n",
              "       [670.21875   ],\n",
              "       [304.22115385],\n",
              "       [254.76201923],\n",
              "       [472.38221154],\n",
              "       [304.22115385],\n",
              "       [274.54567308],\n",
              "       [244.87019231],\n",
              "       [600.97596154]])"
            ]
          },
          "metadata": {
            "tags": []
          },
          "execution_count": 64
        }
      ]
    },
    {
      "cell_type": "code",
      "metadata": {
        "colab": {
          "base_uri": "https://localhost:8080/"
        },
        "id": "_kaqbxTQecWo",
        "outputId": "3e2cd181-0a73-44a0-b7a5-816ead5faea5"
      },
      "source": [
        "#Prediksi dengan data score 5.2\n",
        "lin_reg.predict([[5.2]])"
      ],
      "execution_count": 49,
      "outputs": [
        {
          "output_type": "execute_result",
          "data": {
            "text/plain": [
              "array([[58.90384615]])"
            ]
          },
          "metadata": {
            "tags": []
          },
          "execution_count": 49
        }
      ]
    },
    {
      "cell_type": "code",
      "metadata": {
        "colab": {
          "base_uri": "https://localhost:8080/"
        },
        "id": "lr7aoQnFe1KI",
        "outputId": "4a584e16-e669-4316-be3a-53acc77fe222"
      },
      "source": [
        "#Prediksi dengan data score 7.9\n",
        "lin_reg.predict([[7.9]])"
      ],
      "execution_count": 50,
      "outputs": [
        {
          "output_type": "execute_result",
          "data": {
            "text/plain": [
              "array([[85.61177885]])"
            ]
          },
          "metadata": {
            "tags": []
          },
          "execution_count": 50
        }
      ]
    },
    {
      "cell_type": "code",
      "metadata": {
        "colab": {
          "base_uri": "https://localhost:8080/"
        },
        "id": "24rohMPze8sx",
        "outputId": "6f605fa6-0437-4022-f4b9-58d7402c3555"
      },
      "source": [
        "#Prediksi dengan data score 6.9\n",
        "lin_reg.predict([[6.9]])"
      ],
      "execution_count": 51,
      "outputs": [
        {
          "output_type": "execute_result",
          "data": {
            "text/plain": [
              "array([[75.71995192]])"
            ]
          },
          "metadata": {
            "tags": []
          },
          "execution_count": 51
        }
      ]
    },
    {
      "cell_type": "code",
      "metadata": {
        "colab": {
          "base_uri": "https://localhost:8080/"
        },
        "id": "ly3KXcf0fCHQ",
        "outputId": "33d53f3b-5e56-484f-ea14-64f5400f8ae0"
      },
      "source": [
        "#Prediksi dengan data score 8.1\n",
        "lin_reg.predict([[8.1]])"
      ],
      "execution_count": 52,
      "outputs": [
        {
          "output_type": "execute_result",
          "data": {
            "text/plain": [
              "array([[87.59014423]])"
            ]
          },
          "metadata": {
            "tags": []
          },
          "execution_count": 52
        }
      ]
    }
  ]
}